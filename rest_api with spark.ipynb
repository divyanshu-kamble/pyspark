{
 "cells": [
  {
   "cell_type": "code",
   "execution_count": 41,
   "id": "03af7528",
   "metadata": {},
   "outputs": [],
   "source": [
    "from pyspark.sql import SparkSession\n",
    "import requests\n",
    "import json\n",
    "from pyspark.sql.functions import udf, col, explode\n",
    "from pyspark.sql.types import StructType, StructField, IntegerType, StringType, ArrayType\n",
    "from pyspark.sql import Row"
   ]
  },
  {
   "cell_type": "code",
   "execution_count": 44,
   "id": "c15e9bed",
   "metadata": {},
   "outputs": [
    {
     "name": "stdout",
     "output_type": "stream",
     "text": [
      "22/11/03 15:49:31 WARN Utils: Service 'SparkUI' could not bind on port 4040. Attempting port 4041.\n"
     ]
    }
   ],
   "source": [
    "spark = SparkSession.builder.appName('sparkdf').getOrCreate()"
   ]
  },
  {
   "cell_type": "code",
   "execution_count": 70,
   "id": "ca1c2584",
   "metadata": {},
   "outputs": [
    {
     "data": {
      "text/plain": [
       "ParallelCollectionRDD[92] at readRDDFromFile at PythonRDD.scala:274"
      ]
     },
     "execution_count": 70,
     "metadata": {},
     "output_type": "execute_result"
    }
   ],
   "source": [
    "spark.sparkContext.parallelize(jsondata)"
   ]
  },
  {
   "cell_type": "code",
   "execution_count": 106,
   "id": "3574bd1b",
   "metadata": {},
   "outputs": [],
   "source": [
    "spark = SparkSession.builder.appName('sparkdf').getOrCreate()\n",
    "sparkContext=spark.sparkContext\n",
    "\n",
    "def read_data(get, url):\n",
    "    res = None\n",
    "    response = requests.request(get,url)\n",
    "#     jsondata = response.json()\n",
    "    jdata = json.loads(response.text)\n",
    "    return jdata\n",
    "# df = spark.read.json(sparkContext.parallelize([jsondata]))\n",
    "# df.show(truncate=True)"
   ]
  },
  {
   "cell_type": "code",
   "execution_count": 112,
   "id": "e4b6a34a",
   "metadata": {},
   "outputs": [
    {
     "data": {
      "text/plain": [
       "{'data': [{'ID Nation': '01000US',\n",
       "   'Nation': 'United States',\n",
       "   'ID Year': 2020,\n",
       "   'Year': '2020',\n",
       "   'Population': 326569308,\n",
       "   'Slug Nation': 'united-states'},\n",
       "  {'ID Nation': '01000US',\n",
       "   'Nation': 'United States',\n",
       "   'ID Year': 2019,\n",
       "   'Year': '2019',\n",
       "   'Population': 324697795,\n",
       "   'Slug Nation': 'united-states'},\n",
       "  {'ID Nation': '01000US',\n",
       "   'Nation': 'United States',\n",
       "   'ID Year': 2018,\n",
       "   'Year': '2018',\n",
       "   'Population': 322903030,\n",
       "   'Slug Nation': 'united-states'},\n",
       "  {'ID Nation': '01000US',\n",
       "   'Nation': 'United States',\n",
       "   'ID Year': 2017,\n",
       "   'Year': '2017',\n",
       "   'Population': 321004407,\n",
       "   'Slug Nation': 'united-states'},\n",
       "  {'ID Nation': '01000US',\n",
       "   'Nation': 'United States',\n",
       "   'ID Year': 2016,\n",
       "   'Year': '2016',\n",
       "   'Population': 318558162,\n",
       "   'Slug Nation': 'united-states'},\n",
       "  {'ID Nation': '01000US',\n",
       "   'Nation': 'United States',\n",
       "   'ID Year': 2015,\n",
       "   'Year': '2015',\n",
       "   'Population': 316515021,\n",
       "   'Slug Nation': 'united-states'},\n",
       "  {'ID Nation': '01000US',\n",
       "   'Nation': 'United States',\n",
       "   'ID Year': 2014,\n",
       "   'Year': '2014',\n",
       "   'Population': 314107084,\n",
       "   'Slug Nation': 'united-states'},\n",
       "  {'ID Nation': '01000US',\n",
       "   'Nation': 'United States',\n",
       "   'ID Year': 2013,\n",
       "   'Year': '2013',\n",
       "   'Population': 311536594,\n",
       "   'Slug Nation': 'united-states'}],\n",
       " 'source': [{'measures': ['Population'],\n",
       "   'annotations': {'source_name': 'Census Bureau',\n",
       "    'source_description': 'The American Community Survey (ACS) is conducted by the US Census and sent to a portion of the population every year.',\n",
       "    'dataset_name': 'ACS 5-year Estimate',\n",
       "    'dataset_link': 'http://www.census.gov/programs-surveys/acs/',\n",
       "    'table_id': 'B01003',\n",
       "    'topic': 'Diversity',\n",
       "    'subtopic': 'Demographics'},\n",
       "   'name': 'acs_yg_total_population_5',\n",
       "   'substitutions': []}]}"
      ]
     },
     "execution_count": 112,
     "metadata": {},
     "output_type": "execute_result"
    }
   ],
   "source": [
    "read_data(\"GET\", \"https://datausa.io/api/data?drilldowns=Nation&measures=Population\")"
   ]
  },
  {
   "cell_type": "code",
   "execution_count": 121,
   "id": "3094f994",
   "metadata": {},
   "outputs": [],
   "source": [
    "schema = StructType([StructField(\"data\", ArrayType(StructType([\n",
    "      StructField(\"ID Nation\", StringType()),\n",
    "      StructField(\"Nation\", StringType())]) \n",
    "))])\n",
    "    \n",
    "    \n",
    "\n"
   ]
  },
  {
   "cell_type": "code",
   "execution_count": null,
   "id": "1493f9a6",
   "metadata": {},
   "outputs": [],
   "source": [
    "def get_all_columns_from_schema(source_schema):\n",
    "  branches = []\n",
    "  def inner_get(schema, ancestor=None):\n",
    "    if ancestor is None: ancestor = []\n",
    "    for field in schema.fields:\n",
    "      branch_path = ancestor+[field.name]     \n",
    "      if isinstance(field.dataType, StructType):    \n",
    "        inner_get(field.dataType, branch_path) \n",
    "      else:\n",
    "        branches.append(branch_path)\n",
    "        \n",
    "  inner_get(source_schema)\n",
    "        \n",
    "  return branches\n",
    "\n",
    "def collapse_column(source_df, source_column):\n",
    "    column_name = \"\"\n",
    "    if isinstance(source_column, Column):\n",
    "      column_name = source_column.name\n",
    "    else:\n",
    "      column_name = source_column\n",
    "\n",
    "    return collapse_columns(source_df.schema, column_name)\n",
    "\n",
    "def collapse_columns(source_schema, columnFilter=None):\n",
    "  _columns_to_select = []\n",
    "  if columnFilter is None: columnFilter = \"\"\n",
    "  _all_columns = get_all_columns_from_schema(source_schema)\n",
    "  for column_collection in _all_columns:\n",
    "    if (len(columnFilter) > 0) & (column_collection[0] != columnFilter): \n",
    "        continue\n",
    "        \n",
    "        select_column_collection = ['`%s`' % list_item for list_item in column_collection]    \n",
    "    \n",
    "    if len(column_collection) > 1:\n",
    "      _columns_to_select.append(col('.'.join(select_column_collection)).alias('_'.join(column_collection)))\n",
    "    else:\n",
    "      _columns_to_select.append(col(select_column_collection[0]))\n",
    "\n",
    "  return _columns_to_select\n",
    "\n",
    "def collapse_to_dataframe(source_df):\n",
    "  return source_df.select(collapse_columns(source_df.schema))\n",
    "\n",
    "        \n"
   ]
  },
  {
   "cell_type": "code",
   "execution_count": 122,
   "id": "692b84be",
   "metadata": {},
   "outputs": [],
   "source": [
    "udf_executeRestApi = udf(read_data, schema)"
   ]
  },
  {
   "cell_type": "code",
   "execution_count": 123,
   "id": "f5ee367e",
   "metadata": {},
   "outputs": [],
   "source": [
    "from pyspark.sql import Row\n",
    "headers = {\n",
    "    'content-type': \"application/json\"\n",
    "}\n",
    "body = json.dumps({\n",
    "})\n",
    "RestApiRequestRow = Row(\"verb\", \"url\")\n",
    "request_df = spark.createDataFrame([\n",
    "            RestApiRequestRow(\"get\", \"https://datausa.io/api/data?drilldowns=Nation&measures=Population\")\n",
    "          ])"
   ]
  },
  {
   "cell_type": "code",
   "execution_count": 124,
   "id": "01044f1a",
   "metadata": {},
   "outputs": [],
   "source": [
    "result_df = request_df \\\n",
    "             .withColumn(\"result\", udf_executeRestApi(col(\"verb\"), col(\"url\")))"
   ]
  },
  {
   "cell_type": "code",
   "execution_count": 125,
   "id": "d6e7ff62",
   "metadata": {},
   "outputs": [
    {
     "name": "stdout",
     "output_type": "stream",
     "text": [
      "+-----------------+--------------+\n",
      "|results_ID Nation|results_Nation|\n",
      "+-----------------+--------------+\n",
      "|          01000US| United States|\n",
      "|          01000US| United States|\n",
      "|          01000US| United States|\n",
      "|          01000US| United States|\n",
      "|          01000US| United States|\n",
      "|          01000US| United States|\n",
      "|          01000US| United States|\n",
      "|          01000US| United States|\n",
      "+-----------------+--------------+\n",
      "\n"
     ]
    }
   ],
   "source": [
    "df = result_df.select(explode(col(\"result.data\")).alias(\"results\"))\n",
    "df.select(collapse_columns(df.schema)).show()"
   ]
  },
  {
   "cell_type": "code",
   "execution_count": 61,
   "id": "4e4adfe1",
   "metadata": {},
   "outputs": [],
   "source": [
    "spark.stop()"
   ]
  },
  {
   "cell_type": "code",
   "execution_count": null,
   "id": "e369e7b7",
   "metadata": {},
   "outputs": [],
   "source": []
  }
 ],
 "metadata": {
  "kernelspec": {
   "display_name": "Python 3 (ipykernel)",
   "language": "python",
   "name": "python3"
  },
  "language_info": {
   "codemirror_mode": {
    "name": "ipython",
    "version": 3
   },
   "file_extension": ".py",
   "mimetype": "text/x-python",
   "name": "python",
   "nbconvert_exporter": "python",
   "pygments_lexer": "ipython3",
   "version": "3.10.8"
  }
 },
 "nbformat": 4,
 "nbformat_minor": 5
}
